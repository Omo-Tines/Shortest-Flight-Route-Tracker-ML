{
  "cells": [
    {
      "cell_type": "markdown",
      "metadata": {
        "id": "view-in-github",
        "colab_type": "text"
      },
      "source": [
        "<a href=\"https://colab.research.google.com/github/Omo-Tines/Shortest-Flight-Route-Tracker-ML/blob/main/Group_18_AI_Final_Project.ipynb\" target=\"_parent\"><img src=\"https://colab.research.google.com/assets/colab-badge.svg\" alt=\"Open In Colab\"/></a>"
      ]
    },
    {
      "cell_type": "markdown",
      "metadata": {
        "id": "pWmr59PeO51O"
      },
      "source": [
        "\n",
        "\n",
        "```\n",
        "# Importing necessary libraries\n",
        "```\n",
        "\n"
      ]
    },
    {
      "cell_type": "code",
      "execution_count": null,
      "metadata": {
        "colab": {
          "base_uri": "https://localhost:8080/"
        },
        "id": "grCqtEDc2Ge-",
        "outputId": "a3ce941f-6cf0-41f9-b5e8-9933c532ae16"
      },
      "outputs": [
        {
          "output_type": "stream",
          "name": "stdout",
          "text": [
            "Looking in indexes: https://pypi.org/simple, https://us-python.pkg.dev/colab-wheels/public/simple/\n",
            "Collecting geopandas\n",
            "  Downloading geopandas-0.12.2-py3-none-any.whl (1.1 MB)\n",
            "\u001b[K     |████████████████████████████████| 1.1 MB 5.2 MB/s \n",
            "\u001b[?25hCollecting pyproj>=2.6.1.post1\n",
            "  Downloading pyproj-3.4.1-cp38-cp38-manylinux_2_17_x86_64.manylinux2014_x86_64.whl (7.8 MB)\n",
            "\u001b[K     |████████████████████████████████| 7.8 MB 41.3 MB/s \n",
            "\u001b[?25hRequirement already satisfied: packaging in /usr/local/lib/python3.8/dist-packages (from geopandas) (21.3)\n",
            "Requirement already satisfied: shapely>=1.7 in /usr/local/lib/python3.8/dist-packages (from geopandas) (1.8.5.post1)\n",
            "Collecting fiona>=1.8\n",
            "  Downloading Fiona-1.8.22-cp38-cp38-manylinux_2_17_x86_64.manylinux2014_x86_64.whl (16.6 MB)\n",
            "\u001b[K     |████████████████████████████████| 16.6 MB 44.1 MB/s \n",
            "\u001b[?25hRequirement already satisfied: pandas>=1.0.0 in /usr/local/lib/python3.8/dist-packages (from geopandas) (1.3.5)\n",
            "Requirement already satisfied: six>=1.7 in /usr/local/lib/python3.8/dist-packages (from fiona>=1.8->geopandas) (1.15.0)\n",
            "Requirement already satisfied: setuptools in /usr/local/lib/python3.8/dist-packages (from fiona>=1.8->geopandas) (57.4.0)\n",
            "Collecting cligj>=0.5\n",
            "  Downloading cligj-0.7.2-py3-none-any.whl (7.1 kB)\n",
            "Requirement already satisfied: attrs>=17 in /usr/local/lib/python3.8/dist-packages (from fiona>=1.8->geopandas) (22.1.0)\n",
            "Collecting click-plugins>=1.0\n",
            "  Downloading click_plugins-1.1.1-py2.py3-none-any.whl (7.5 kB)\n",
            "Requirement already satisfied: certifi in /usr/local/lib/python3.8/dist-packages (from fiona>=1.8->geopandas) (2022.9.24)\n",
            "Collecting munch\n",
            "  Downloading munch-2.5.0-py2.py3-none-any.whl (10 kB)\n",
            "Requirement already satisfied: click>=4.0 in /usr/local/lib/python3.8/dist-packages (from fiona>=1.8->geopandas) (7.1.2)\n",
            "Requirement already satisfied: pytz>=2017.3 in /usr/local/lib/python3.8/dist-packages (from pandas>=1.0.0->geopandas) (2022.6)\n",
            "Requirement already satisfied: python-dateutil>=2.7.3 in /usr/local/lib/python3.8/dist-packages (from pandas>=1.0.0->geopandas) (2.8.2)\n",
            "Requirement already satisfied: numpy>=1.17.3 in /usr/local/lib/python3.8/dist-packages (from pandas>=1.0.0->geopandas) (1.21.6)\n",
            "Requirement already satisfied: pyparsing!=3.0.5,>=2.0.2 in /usr/local/lib/python3.8/dist-packages (from packaging->geopandas) (3.0.9)\n",
            "Installing collected packages: munch, cligj, click-plugins, pyproj, fiona, geopandas\n",
            "Successfully installed click-plugins-1.1.1 cligj-0.7.2 fiona-1.8.22 geopandas-0.12.2 munch-2.5.0 pyproj-3.4.1\n"
          ]
        }
      ],
      "source": [
        "!pip install geopandas\n",
        "import geopandas as gpd"
      ]
    },
    {
      "cell_type": "code",
      "execution_count": null,
      "metadata": {
        "colab": {
          "base_uri": "https://localhost:8080/"
        },
        "id": "LUzSCEz0HvEC",
        "outputId": "a37d3427-c18a-4f03-bbb2-a5ef9baf5d16"
      },
      "outputs": [
        {
          "output_type": "stream",
          "name": "stdout",
          "text": [
            "Looking in indexes: https://pypi.org/simple, https://us-python.pkg.dev/colab-wheels/public/simple/\n",
            "Collecting cartopy\n",
            "  Downloading Cartopy-0.21.1.tar.gz (10.9 MB)\n",
            "\u001b[K     |████████████████████████████████| 10.9 MB 4.7 MB/s \n",
            "\u001b[?25h  Installing build dependencies ... \u001b[?25l\u001b[?25hdone\n",
            "  Getting requirements to build wheel ... \u001b[?25l\u001b[?25herror\n",
            "\u001b[33mWARNING: Discarding https://files.pythonhosted.org/packages/e8/11/ed3e364b3910f0951821e6b5a03a03ce425464b72aa3da08d47b78ae17bd/Cartopy-0.21.1.tar.gz#sha256=89d5649712c8582231c6e11825a04c85f6f0cee94dbb89e4db23eabca1cc250a (from https://pypi.org/simple/cartopy/) (requires-python:>=3.8). Command errored out with exit status 1: /usr/bin/python3 /usr/local/lib/python3.8/dist-packages/pip/_vendor/pep517/in_process/_in_process.py get_requires_for_build_wheel /tmp/tmp1juzphj4 Check the logs for full command output.\u001b[0m\n",
            "  Downloading Cartopy-0.21.0.tar.gz (10.9 MB)\n",
            "\u001b[K     |████████████████████████████████| 10.9 MB 33.7 MB/s \n",
            "\u001b[?25h  Installing build dependencies ... \u001b[?25l\u001b[?25hdone\n",
            "  Getting requirements to build wheel ... \u001b[?25l\u001b[?25herror\n",
            "\u001b[33mWARNING: Discarding https://files.pythonhosted.org/packages/40/0c/b673fb89eadf798654652df3dda4b8229ca747568976b7a919d7d65e656e/Cartopy-0.21.0.tar.gz#sha256=ce1d3a28a132e94c89ac33769a50f81f65634ab2bd40556317e15bd6cad1ce42 (from https://pypi.org/simple/cartopy/) (requires-python:>=3.8). Command errored out with exit status 1: /usr/bin/python3 /usr/local/lib/python3.8/dist-packages/pip/_vendor/pep517/in_process/_in_process.py get_requires_for_build_wheel /tmp/tmpbvu8ix1b Check the logs for full command output.\u001b[0m\n",
            "  Downloading Cartopy-0.20.3.tar.gz (10.8 MB)\n",
            "\u001b[K     |████████████████████████████████| 10.8 MB 68.0 MB/s \n",
            "\u001b[?25h  Installing build dependencies ... \u001b[?25l\u001b[?25hdone\n",
            "  Getting requirements to build wheel ... \u001b[?25l\u001b[?25herror\n",
            "\u001b[33mWARNING: Discarding https://files.pythonhosted.org/packages/98/a9/0e4000eabadfcff6373c0fec790863b543b919cbfec18aed60d71ba67d5d/Cartopy-0.20.3.tar.gz#sha256=0d60fa2e2fbd77c4d1f6b1f9d3b588966147f07c1b179d2d34570ac1e1b49006 (from https://pypi.org/simple/cartopy/) (requires-python:>=3.7). Command errored out with exit status 1: /usr/bin/python3 /usr/local/lib/python3.8/dist-packages/pip/_vendor/pep517/in_process/_in_process.py get_requires_for_build_wheel /tmp/tmpuqygjg6c Check the logs for full command output.\u001b[0m\n",
            "  Downloading Cartopy-0.20.2.tar.gz (10.8 MB)\n",
            "\u001b[K     |████████████████████████████████| 10.8 MB 66.9 MB/s \n",
            "\u001b[?25h  Installing build dependencies ... \u001b[?25l\u001b[?25hdone\n",
            "  Getting requirements to build wheel ... \u001b[?25l\u001b[?25herror\n",
            "\u001b[33mWARNING: Discarding https://files.pythonhosted.org/packages/f6/55/1e1c737dc9436b320deead73d1c455ddbb74b8b6992081863492f6f6378a/Cartopy-0.20.2.tar.gz#sha256=4d08c198ecaa50a6a6b109d0f14c070e813defc046a83ac5d7ab494f85599e35 (from https://pypi.org/simple/cartopy/) (requires-python:>=3.7). Command errored out with exit status 1: /usr/bin/python3 /usr/local/lib/python3.8/dist-packages/pip/_vendor/pep517/in_process/_in_process.py get_requires_for_build_wheel /tmp/tmporelkhzy Check the logs for full command output.\u001b[0m\n",
            "  Downloading Cartopy-0.20.1.tar.gz (10.8 MB)\n",
            "\u001b[K     |████████████████████████████████| 10.8 MB 58.5 MB/s \n",
            "\u001b[?25h  Installing build dependencies ... \u001b[?25l\u001b[?25hdone\n",
            "  Getting requirements to build wheel ... \u001b[?25l\u001b[?25herror\n",
            "\u001b[33mWARNING: Discarding https://files.pythonhosted.org/packages/fc/59/aa52698e3838f4cd0e7eaa75bd86837e9e0b05041dbdaee3cda2fffced06/Cartopy-0.20.1.tar.gz#sha256=91f87b130e2574547a20cd634498df97d797abd12dcfd0235bc0cdbcec8b05e3 (from https://pypi.org/simple/cartopy/) (requires-python:>=3.7). Command errored out with exit status 1: /usr/bin/python3 /usr/local/lib/python3.8/dist-packages/pip/_vendor/pep517/in_process/_in_process.py get_requires_for_build_wheel /tmp/tmpg634o28n Check the logs for full command output.\u001b[0m\n",
            "  Downloading Cartopy-0.20.0.tar.gz (10.8 MB)\n",
            "\u001b[K     |████████████████████████████████| 10.8 MB 68.5 MB/s \n",
            "\u001b[?25h  Installing build dependencies ... \u001b[?25l\u001b[?25hdone\n",
            "  Getting requirements to build wheel ... \u001b[?25l\u001b[?25herror\n",
            "\u001b[33mWARNING: Discarding https://files.pythonhosted.org/packages/0f/c0/58453b036e79046d211f083880d58dcce787e7e07647ac25dc46c6555099/Cartopy-0.20.0.tar.gz#sha256=eae58aff26806e63cf115b2bce9477cedc4aa9f578c5e477b2c25cfa404f2b7a (from https://pypi.org/simple/cartopy/) (requires-python:>=3.7). Command errored out with exit status 1: /usr/bin/python3 /usr/local/lib/python3.8/dist-packages/pip/_vendor/pep517/in_process/_in_process.py get_requires_for_build_wheel /tmp/tmps917__37 Check the logs for full command output.\u001b[0m\n",
            "  Downloading Cartopy-0.19.0.post1.tar.gz (12.1 MB)\n",
            "\u001b[K     |████████████████████████████████| 12.1 MB 69.1 MB/s \n",
            "\u001b[?25h  Installing build dependencies ... \u001b[?25l\u001b[?25hdone\n",
            "  Getting requirements to build wheel ... \u001b[?25l\u001b[?25hdone\n",
            "    Preparing wheel metadata ... \u001b[?25l\u001b[?25hdone\n",
            "Requirement already satisfied: numpy>=1.13.3 in /usr/local/lib/python3.8/dist-packages (from cartopy) (1.21.6)\n",
            "Requirement already satisfied: shapely>=1.5.6 in /usr/local/lib/python3.8/dist-packages (from cartopy) (1.8.5.post1)\n",
            "Collecting pyshp>=2\n",
            "  Downloading pyshp-2.3.1-py2.py3-none-any.whl (46 kB)\n",
            "\u001b[K     |████████████████████████████████| 46 kB 3.8 MB/s \n",
            "\u001b[?25hBuilding wheels for collected packages: cartopy\n",
            "  Building wheel for cartopy (PEP 517) ... \u001b[?25l\u001b[?25hdone\n",
            "  Created wheel for cartopy: filename=Cartopy-0.19.0.post1-cp38-cp38-linux_x86_64.whl size=12659506 sha256=6d332a21252f54b5d5319b896d76e501cc455cdd3f3443891eaeadb0c5006ca8\n",
            "  Stored in directory: /root/.cache/pip/wheels/d7/7e/a7/f1de106b1da02e78db1fc6ff482fda367f8902856faa85d1c6\n",
            "Successfully built cartopy\n",
            "Installing collected packages: pyshp, cartopy\n",
            "Successfully installed cartopy-0.19.0.post1 pyshp-2.3.1\n",
            "Looking in indexes: https://pypi.org/simple, https://us-python.pkg.dev/colab-wheels/public/simple/\n",
            "Requirement already satisfied: networkx in /usr/local/lib/python3.8/dist-packages (2.8.8)\n"
          ]
        }
      ],
      "source": [
        "#install cartopy\n",
        "\n",
        "!pip install cartopy\n",
        "import cartopy\n",
        "!pip install networkx\n"
      ]
    },
    {
      "cell_type": "code",
      "execution_count": null,
      "metadata": {
        "id": "ZMzQjvKIOmSL"
      },
      "outputs": [],
      "source": [
        "import pandas as pd\n",
        "import numpy as np\n",
        "import geopandas as gpd\n",
        "from shapely.geometry import Point\n",
        "import matplotlib\n",
        "import matplotlib.pyplot as plt\n",
        "import seaborn\n",
        "import os\n",
        "import math\n",
        "import json\n",
        "import networkx as nx\n",
        "import cartopy.crs as ccrs\n",
        "from IPython.display import Image\n",
        "%matplotlib inline\n",
        "\n"
      ]
    },
    {
      "cell_type": "code",
      "execution_count": null,
      "metadata": {
        "colab": {
          "base_uri": "https://localhost:8080/"
        },
        "id": "bp5R5haoIif5",
        "outputId": "19ac663f-a48a-4d1f-988a-e784aa3e2a35"
      },
      "outputs": [
        {
          "output_type": "stream",
          "name": "stdout",
          "text": [
            "Looking in indexes: https://pypi.org/simple, https://us-python.pkg.dev/colab-wheels/public/simple/\n",
            "Collecting a-world-of-countries\n",
            "  Downloading a_world_of_countries-1.0.0-py3-none-any.whl (34 kB)\n",
            "Collecting pydash\n",
            "  Downloading pydash-5.1.2-py3-none-any.whl (84 kB)\n",
            "\u001b[K     |████████████████████████████████| 84 kB 2.8 MB/s \n",
            "\u001b[?25hInstalling collected packages: pydash, a-world-of-countries\n",
            "Successfully installed a-world-of-countries-1.0.0 pydash-5.1.2\n"
          ]
        }
      ],
      "source": [
        "!pip install a-world-of-countries"
      ]
    },
    {
      "cell_type": "markdown",
      "metadata": {
        "id": "tAKyHF0LIiLy"
      },
      "source": []
    },
    {
      "cell_type": "code",
      "execution_count": null,
      "metadata": {
        "id": "VMLlA1mytE3R"
      },
      "outputs": [],
      "source": [
        "import awoc"
      ]
    },
    {
      "cell_type": "code",
      "execution_count": null,
      "metadata": {
        "id": "XVx_PkdDMO0W"
      },
      "outputs": [],
      "source": [
        "from google.colab import drive\n",
        "drive.mount('/content/drive')\n"
      ]
    },
    {
      "cell_type": "code",
      "execution_count": null,
      "metadata": {
        "id": "kJlD8CJuxNNk"
      },
      "outputs": [],
      "source": [
        "dataDirect1 = os.path.abspath('/content/drive/MyDrive/AI Folder/airlines.csv')\n",
        "!ls '/content/drive/My Drive/AI Folder'\n"
      ]
    },
    {
      "cell_type": "code",
      "execution_count": null,
      "metadata": {
        "id": "VuCshXi1cRCI"
      },
      "outputs": [],
      "source": [
        "\n",
        "dataDirect2 = os.path.abspath('/content/drive/MyDrive/AI Folder/routes.csv')\n",
        "!ls '/content/drive/My Drive/AI Folder'\n",
        "\n",
        "\n"
      ]
    },
    {
      "cell_type": "code",
      "execution_count": null,
      "metadata": {
        "id": "XG-JAIdaleJa"
      },
      "outputs": [],
      "source": [
        "dataDirect3 =os.path.abspath('/content/drive/MyDrive/AI Folder/airports.csv')\n",
        "!ls '/content/drive/My Drive/AI Folder'\n",
        "\n"
      ]
    },
    {
      "cell_type": "code",
      "execution_count": null,
      "metadata": {
        "id": "XuCXV5hulohF"
      },
      "outputs": [],
      "source": [
        "Airports = pd.read_csv(dataDirect3)\n",
        "Airports=Airports.dropna()\n",
        "\n",
        "#here we drop lines of code with null values to help draw the map below"
      ]
    },
    {
      "cell_type": "code",
      "execution_count": null,
      "metadata": {
        "id": "_XJXzMMbcwbS"
      },
      "outputs": [],
      "source": [
        "FlightRoutes= pd.read_csv(dataDirect2)\n",
        "FlightRoutes=FlightRoutes.dropna()"
      ]
    },
    {
      "cell_type": "code",
      "execution_count": null,
      "metadata": {
        "id": "B27Pok0hybTE"
      },
      "outputs": [],
      "source": [
        "AirlinesRouteTracker= pd.read_csv(dataDirect1)\n",
        "AirlinesRouteTracker=AirlinesRouteTracker.dropna()"
      ]
    },
    {
      "cell_type": "code",
      "execution_count": null,
      "metadata": {
        "id": "5Bh8zBNhy0nZ"
      },
      "outputs": [],
      "source": [
        "AirlinesRouteTracker.info()"
      ]
    },
    {
      "cell_type": "code",
      "execution_count": null,
      "metadata": {
        "id": "IxI12oCxdKDT"
      },
      "outputs": [],
      "source": [
        "FlightRoutes.info()"
      ]
    },
    {
      "cell_type": "code",
      "execution_count": null,
      "metadata": {
        "id": "8fomlyNiBEiP"
      },
      "outputs": [],
      "source": [
        "Airports.info()"
      ]
    },
    {
      "cell_type": "code",
      "execution_count": null,
      "metadata": {
        "id": "vkI9nmZVdREA"
      },
      "outputs": [],
      "source": [
        "FlightRoutes.head()"
      ]
    },
    {
      "cell_type": "code",
      "execution_count": null,
      "metadata": {
        "id": "bR-fp29s_w9I"
      },
      "outputs": [],
      "source": [
        "AirlinesRouteTracker.head()"
      ]
    },
    {
      "cell_type": "code",
      "execution_count": null,
      "metadata": {
        "id": "FU1FnlVJknvE"
      },
      "outputs": [],
      "source": [
        "Airports.head()"
      ]
    },
    {
      "cell_type": "code",
      "execution_count": null,
      "metadata": {
        "id": "bHW-lU9Cwj9x"
      },
      "outputs": [],
      "source": [
        "AirlinesRouteTracker['Country'].unique()"
      ]
    },
    {
      "cell_type": "code",
      "execution_count": null,
      "metadata": {
        "id": "7ivCtEQgtXB7"
      },
      "outputs": [],
      "source": [
        "# Initializing the AWOC class.\n",
        "my_world = awoc.AWOC()\n",
        "countries_of_africa = my_world.get_countries_list_of('Africa') #creating a list of Afrian countries\n",
        "countries_of_africa"
      ]
    },
    {
      "cell_type": "code",
      "execution_count": null,
      "metadata": {
        "id": "IFNYx86V-RYM"
      },
      "outputs": [],
      "source": [
        "countries_of_africa.append('Congo (Kinshasa)')\n",
        "countries_of_africa.append('Congo (Brazzaville)')\n",
        "countries_of_africa.sort()"
      ]
    },
    {
      "cell_type": "code",
      "execution_count": null,
      "metadata": {
        "id": "G22yIluuhbTL"
      },
      "outputs": [],
      "source": [
        "AirlinesRouteTracker=AirlinesRouteTracker.loc[AirlinesRouteTracker['Country'].isin(countries_of_africa)]\n",
        "AirlinesRouteTracker"
      ]
    },
    {
      "cell_type": "code",
      "execution_count": null,
      "metadata": {
        "id": "JmMrtTSGA8Fa"
      },
      "outputs": [],
      "source": [
        "AfricaAirlines =AirlinesRouteTracker['Name'].unique()\n",
        "AfricaAirlines"
      ]
    },
    {
      "cell_type": "code",
      "execution_count": null,
      "metadata": {
        "id": "pd-S9Ufj0ZmG"
      },
      "outputs": [],
      "source": [
        "Airports=Airports.loc[Airports['Country'].isin(countries_of_africa)]\n",
        "Airports\n",
        "\n"
      ]
    },
    {
      "cell_type": "code",
      "execution_count": null,
      "metadata": {
        "id": "QbKO3sK6qKcS"
      },
      "outputs": [],
      "source": [
        "AfricanAirports = Airports['Country'].unique()\n",
        "AfricanAirports"
      ]
    },
    {
      "cell_type": "code",
      "execution_count": null,
      "metadata": {
        "id": "UnECcVokmbkK"
      },
      "outputs": [],
      "source": [
        "gkaAirports=Airports['GKA'].unique()\n",
        "gkaAirports"
      ]
    },
    {
      "cell_type": "code",
      "execution_count": null,
      "metadata": {
        "id": "iIhC8-2an5u5"
      },
      "outputs": [],
      "source": [
        "Airports"
      ]
    },
    {
      "cell_type": "code",
      "execution_count": null,
      "metadata": {
        "id": "9ftTFIYSwPAR"
      },
      "outputs": [],
      "source": [
        "app=Airports['Country'].where(Airports['Country'].isin(AfricanAirports))\n",
        "gkaapp=Airports['GKA']"
      ]
    },
    {
      "cell_type": "markdown",
      "metadata": {
        "id": "n51U6R5ZRqAp"
      },
      "source": [
        "##Geopandas to convert long and lat to points"
      ]
    },
    {
      "cell_type": "code",
      "execution_count": null,
      "metadata": {
        "id": "nfQWM0vaRr32"
      },
      "outputs": [],
      "source": [
        "Airports_geo = gpd.GeoDataFrame(Airports, geometry = gpd.points_from_xy(Airports.lat, Airports.Long))"
      ]
    },
    {
      "cell_type": "code",
      "execution_count": null,
      "metadata": {
        "id": "65ms12FpRx3q"
      },
      "outputs": [],
      "source": [
        "Airports_geo"
      ]
    },
    {
      "cell_type": "code",
      "execution_count": null,
      "metadata": {
        "id": "kkYtLs3hSIWp"
      },
      "outputs": [],
      "source": [
        "Africa_data = gpd.read_file(gpd.datasets.get_path(\"naturalearth_lowres\"))"
      ]
    },
    {
      "cell_type": "markdown",
      "metadata": {
        "id": "bycdaWikSKKs"
      },
      "source": [
        "# Plotting the map of Africa using Geopandas"
      ]
    },
    {
      "cell_type": "code",
      "execution_count": null,
      "metadata": {
        "id": "DcWF6yOASOKs"
      },
      "outputs": [],
      "source": [
        "from pandas.core.frame import Axis\n",
        "Axis = Africa_data[Africa_data.continent == \"Africa\"].plot(\n",
        "    color = \"black\", edgecolor = \"lightblue\")\n",
        "Airports_geo.plot(ax = Axis, color = \"red\")\n",
        "plt.title(\"Africa Airports\")\n",
        "\n",
        "pic = matplotlib.pyplot.gcf()\n",
        "pic.set_size_inches(9, 6)\n",
        "pic.savefig(\"matplot.png\", dpi = 300)\n",
        "plt.show()"
      ]
    },
    {
      "cell_type": "markdown",
      "metadata": {
        "id": "I4KHj-Otk8qM"
      },
      "source": [
        "CREATE GRAPH"
      ]
    },
    {
      "cell_type": "code",
      "execution_count": null,
      "metadata": {
        "id": "gUdpVROhpRvD"
      },
      "outputs": [],
      "source": [
        "FlightRoutes[' source airport'].unique()"
      ]
    },
    {
      "cell_type": "code",
      "execution_count": null,
      "metadata": {
        "id": "XPHIHBHypwMi"
      },
      "outputs": [],
      "source": [
        "FlightRoutes[' destination apirport']"
      ]
    },
    {
      "cell_type": "code",
      "execution_count": null,
      "metadata": {
        "id": "fuo-IqMbnt70"
      },
      "outputs": [],
      "source": [
        "\n",
        "AFlightRoutes= FlightRoutes.loc[\n",
        "    FlightRoutes[' source airport'].isin(gkaAirports) &\n",
        "    FlightRoutes[' destination apirport'].isin(gkaAirports)]\n",
        "AFlightRoutes"
      ]
    },
    {
      "cell_type": "code",
      "execution_count": null,
      "metadata": {
        "id": "GeNfecYMk68O"
      },
      "outputs": [],
      "source": [
        "#We construct the list of edges representing our graph, where nodes are airports,\n",
        "#and two airports are connected if there exists a route between them (flight network)\n",
        "\n",
        "edges = AFlightRoutes[[' source airport', ' destination apirport']].values\n",
        "edges\n",
        "\n",
        "\n"
      ]
    },
    {
      "cell_type": "code",
      "execution_count": null,
      "metadata": {
        "id": "kvzL0mN6_xPE"
      },
      "outputs": [],
      "source": [
        "\n",
        "#We create the networkX graph from the edges array\n",
        "import networkx as nx\n",
        "\n",
        "g = nx.from_edgelist(edges)\n",
        "len(g.nodes()), len(g.edges())\n"
      ]
    },
    {
      "cell_type": "code",
      "execution_count": null,
      "metadata": {
        "id": "6S3JaxXr__6P"
      },
      "outputs": [],
      "source": [
        "\n",
        "#plot the graph\n",
        "\n",
        "fig, ax = plt.subplots(1, 1, figsize=(6, 6))\n",
        "nx.draw_networkx(g, ax=ax, node_size=5,\n",
        "                 font_size=6, alpha=.5,\n",
        "                 width=.5)\n",
        "ax.set_axis_off()\n"
      ]
    },
    {
      "cell_type": "code",
      "execution_count": null,
      "metadata": {
        "id": "yTHgrD3s6uIi"
      },
      "outputs": [],
      "source": [
        "#connected_component_subgraphs = (g.subgraph(c) for c in nx.connected_components(g))\n",
        "sg = next(g.subgraph(c) for c in nx.connected_components(g))"
      ]
    },
    {
      "cell_type": "code",
      "execution_count": null,
      "metadata": {
        "id": "k7iqi17sAF0Y"
      },
      "outputs": [],
      "source": [
        "\n",
        "#plot the largest connected component subgraph\n",
        "\n",
        "fig, ax = plt.subplots(1, 1, figsize=(6, 6))\n",
        "nx.draw_networkx(g, ax=ax, with_labels=False,node_size=5, width=.5)\n",
        "ax.set_axis_off()\n"
      ]
    },
    {
      "cell_type": "code",
      "execution_count": null,
      "metadata": {
        "id": "atTHrg-KAJ_k"
      },
      "outputs": [],
      "source": [
        "\n",
        "#draw the graph on a map using the geographical coordimates of the airports.\n",
        "#we create a dictionary where the keys == the airports IATA codes, and\n",
        "#values == coordinates\n",
        "\n",
        "pos = {v['GKA']: (v['Long'],v['lat'])\n",
        "      for Airports, v in Airports.to_dict('index').items()}\n"
      ]
    },
    {
      "cell_type": "code",
      "execution_count": null,
      "metadata": {
        "id": "jViyK5Qluzmz"
      },
      "outputs": [],
      "source": [
        "#creating dictionary \"rou\" to set up the weighted dataset\n",
        "\n",
        "rou = {v[' source airport']:[(v[' destination apirport'])] #make the values a ist so the weights can be appended to it\n",
        "      for AFlightRoutes, v in AFlightRoutes.to_dict('index').items()}"
      ]
    },
    {
      "cell_type": "code",
      "execution_count": null,
      "metadata": {
        "id": "NlrAaQ33vLXo"
      },
      "outputs": [],
      "source": [
        "rou"
      ]
    },
    {
      "cell_type": "code",
      "execution_count": null,
      "metadata": {
        "id": "BmJlTDeM5MoK"
      },
      "outputs": [],
      "source": [
        "pos"
      ]
    },
    {
      "cell_type": "code",
      "execution_count": null,
      "metadata": {
        "id": "QsTFc6CVAM_X"
      },
      "outputs": [],
      "source": [
        "\n",
        "# The node sizes will depend on the degree of the nodes, that is,\n",
        "# the number of airports connected to every node:\n",
        "\n",
        "deg = nx.degree(sg)\n",
        "sizes = [5 * deg[iata] for iata in sg.nodes]\n"
      ]
    },
    {
      "cell_type": "code",
      "execution_count": null,
      "metadata": {
        "id": "T8uqvegoARS5"
      },
      "outputs": [],
      "source": [
        "\n",
        "# display the labels of the largest airports\n",
        "\n",
        "labels = {iata: iata if deg[iata] >= 20 else ''\n",
        "          for iata in sg.nodes}\n"
      ]
    },
    {
      "cell_type": "markdown",
      "metadata": {
        "id": "vGLAlXaNSv0E"
      },
      "source": [
        "#Bar graph analysis to determine the most used aircraft"
      ]
    },
    {
      "cell_type": "markdown",
      "metadata": {
        "id": "StxgHcNHTIYb"
      },
      "source": [
        "# Visualizing the dataset"
      ]
    },
    {
      "cell_type": "code",
      "execution_count": null,
      "metadata": {
        "id": "PSKjfxIUS9je"
      },
      "outputs": [],
      "source": [
        "AFlightRoutes.head(10)"
      ]
    },
    {
      "cell_type": "code",
      "execution_count": null,
      "metadata": {
        "id": "GjXXHDt0TLHw"
      },
      "outputs": [],
      "source": [
        "AFlightRoutes.tail()"
      ]
    },
    {
      "cell_type": "code",
      "execution_count": null,
      "metadata": {
        "id": "r0k0Y_m9TQbH"
      },
      "outputs": [],
      "source": [
        "import matplotlib.pyplot as plot\n",
        "\n",
        "#Converting the equipment column containing aircrafts into a list of aircrafts from the table \"AFlightRoutes\"\n",
        "\n",
        "Flights_df  = AFlightRoutes[' equipment']\n",
        "Flights_list = list(Flights_df)\n",
        "Flight_list_no_repeat = list(Flights_df.unique())\n",
        "\n",
        "# Adding the various Airplanes used in the list into the variable frequency\n",
        "frequency = []\n",
        "for i in Flight_list_no_repeat:\n",
        "  foo = Flights_list.count(i)\n",
        "  frequency.append(foo)\n",
        "freq = frequency.copy()\n",
        "freq.sort(reverse=True)\n",
        "\n",
        "# Considering the first 20 most used Airplanes\n",
        "first_20_most_used_airplanes = freq[0:20]\n",
        "Aircraft_names = []\n",
        "for i in first_20_most_used_airplanes:\n",
        "  Index = frequency.index(i)\n",
        "  ith_flight = Flight_list_no_repeat[Index]\n",
        "  Aircraft_names.append(ith_flight)\n",
        "  Flight_list_no_repeat.remove(ith_flight)\n",
        "  frequency.remove(i)\n",
        "# Plotting the first most used Airplanes on the x axes against Frequency on the y axes\n",
        "fig = plot.figure()\n",
        "ax = fig.add_axes([0,0,1,1])\n",
        "fig.set_size_inches(12, 5)\n",
        "\n",
        "ax.bar(Aircraft_names,first_20_most_used_airplanes)\n",
        "plot.xlabel('Aircrafts')\n",
        "plot.ylabel('Usage Frequecy')\n",
        "plot.title('20 Most Used African Aircrafts')\n",
        "plot.show()\n"
      ]
    },
    {
      "cell_type": "markdown",
      "metadata": {
        "id": "ZcUKP4uVyzkz"
      },
      "source": [
        "Calculating Distance"
      ]
    },
    {
      "cell_type": "code",
      "execution_count": null,
      "metadata": {
        "id": "MwwgN9jLyywe"
      },
      "outputs": [],
      "source": [
        "\n",
        "\n",
        "#Calculating Distance between Airports\n",
        "\n",
        "from math import radians, cos, sin, asin, sqrt, atan2\n",
        "\n",
        "# approximate radius of earth in km\n",
        "R = 6373.0\n",
        "\n",
        "def haversine(gka1,gka2):\n",
        "  if gka1 in set(AFlightRoutes[' source airport']) and gka2 in set(AFlightRoutes[' destination apirport']):\n",
        "    lat1 = Airports.loc[Airports['GKA'] == gka1]['lat']\n",
        "    lon1 = Airports.loc[Airports['GKA'] == gka1]['Long']\n",
        "    lat2 = Airports.loc[Airports['GKA'] == gka2]['lat']\n",
        "    lon2 = Airports.loc[Airports['GKA'] == gka2]['Long']\n",
        "    # convert decimal degrees to radians\n",
        "    lon1, lat1, lon2, lat2 = map(radians, [lon1, lat1, lon2, lat2])\n",
        "    # haversine formula\n",
        "    dlon = lon2 - lon1\n",
        "    dlat = lat2 - lat1\n",
        "    a = sin(dlat/2)**2 + cos(lat1) * cos(lat2) * sin(dlon/2)**2\n",
        "    c = 2 * asin(sqrt(a))\n",
        "    r = 6371 # Radius of earth in kilometers. Use 3956 for miles. Determines return value units.\n",
        "    cost= c * r\n",
        "    rou[gka1].append(cost)\n",
        "  return 1\n",
        "\n",
        "for i,j in rou.items():#where i is the dictionary key (source airport) and j is the value (destination airport)\n",
        "  j=j[0] #using at index 0 which is the first index of the list value\n",
        "  haversine(i,j)"
      ]
    },
    {
      "cell_type": "code",
      "execution_count": null,
      "metadata": {
        "id": "CBv2gbX7GPHq"
      },
      "outputs": [],
      "source": [
        "rou\n",
        "\n",
        "#rou takes the coordinants of each airport and calculates the distance between airports"
      ]
    },
    {
      "cell_type": "code",
      "execution_count": null,
      "metadata": {
        "id": "HbvDQ0D0O9QO"
      },
      "outputs": [],
      "source": [
        "rou['VNX'][1]"
      ]
    },
    {
      "cell_type": "markdown",
      "metadata": {
        "id": "GtEnEmHfk3S3"
      },
      "source": [
        "Uniform Cost Search Algorithm\n"
      ]
    },
    {
      "cell_type": "code",
      "execution_count": null,
      "metadata": {
        "id": "Hf93b50N9Lz5"
      },
      "outputs": [],
      "source": [
        "!pip install heapdict\n",
        "from heapdict import heapdict as hd\n"
      ]
    },
    {
      "cell_type": "code",
      "execution_count": null,
      "metadata": {
        "id": "piGDudw7krQv"
      },
      "outputs": [],
      "source": [
        "\"\"\"uniform_cost_searchB.py: A basic implementation olove \"\"\"\n",
        "\"uniform_cost_searchB.py: A basic implementation of Uniform Cost Search.\"\n",
        "__author__      = \"Ayorkor Korsah\"\n",
        "\n",
        "\n",
        "class Problem:\n",
        "    \"\"\" This class represents a generic Problem to be solved by search.\"\"\"\n",
        "\n",
        "    def __init__(self, init_state, goal_state):\n",
        "        self.init_state = init_state\n",
        "        self.goal_state = goal_state\n",
        "\n",
        "    def __str__(self):\n",
        "        return (type(self).__name__ + \": Init state=\" + str(self.init_state) +\n",
        "                \", goal state=\" + str(self.goal_state))\n",
        "\n",
        "    def goal_test(self, state):\n",
        "        return False\n",
        "\n",
        "    def actions(self, state):\n",
        "        return None, None, None\n",
        "\n",
        "\n",
        "class RoutePlanningProb(Problem):\n",
        "    \"\"\" This class represents the prolem of finding the shortest\n",
        "        path between cities in a map\n",
        "    \"\"\"\n",
        "\n",
        "    def __init__(self, init_state, goal_state, mymap):\n",
        "        super().__init__(init_state,goal_state)\n",
        "        self.map = mymap\n",
        "\n",
        "    def goal_test(self,state):\n",
        "        return (state == self.goal_state)\n",
        "\n",
        "    def actions(self, state):\n",
        "        neighbours = self.map[state]\n",
        "        actions = []\n",
        "        succ_states = []\n",
        "        trans_costs = []\n",
        "        print(neighbours[0])\n",
        "        for i in range(len(neighbours)-1):\n",
        "            actions.append(neighbours[i])\n",
        "            succ_states.append(neighbours[i])\n",
        "            trans_costs.append(neighbours[i+1])\n",
        "        return actions, succ_states, trans_costs\n",
        "\n",
        "    def print_prob(self):\n",
        "        print(\"__RoutePlanningProb__\")\n",
        "        print(\"init_state =\", self.init_state)\n",
        "        print(\"goal_state =\", self.goal_state)\n",
        "        print(\"Map has \",len(self.map),\" states.\") #l\n",
        "\n",
        "\n",
        "class Node:\n",
        "    \"\"\" This class represents a node in the search tree\"\"\"\n",
        "\n",
        "    def __init__(self, state, parent=None, action=None, path_cost=0):\n",
        "        self.state = state\n",
        "        self.parent = parent\n",
        "        self.action = action\n",
        "        self.path_cost = path_cost\n",
        "\n",
        "    def __str__(self):\n",
        "        mystr = \"Node with state=\" + str(self.state);\n",
        "        if (self.parent != None):\n",
        "            mystr += (\", parent=\" + str(self.parent.state) +\n",
        "                    \", action=\" + str(self.action) +\n",
        "                    \", path_cost=\" + str(self.path_cost))\n",
        "        return mystr\n",
        "\n",
        "    # The purpose of this method is to enable two nodes  on the\n",
        "    # frontier to be considered equal to each other if they represent\n",
        "    # the same state (regardless of if they have different parent nodes)\n",
        "    def __eq__(self, other):\n",
        "        return (isinstance(other,Node) and\n",
        "                self.state == other.state)\n",
        "\n",
        "    def __hash__(self):\n",
        "        return self.state.__hash__()\n",
        "\n",
        "    def solution_path(self):\n",
        "        # to do: implement this to generate the solution path\n",
        "        # leading to this node\n",
        "        seq_actions=[]\n",
        "        cost_states=[]\n",
        "        while self:#while there is a node this should run\n",
        "            seq_actions.append(self.action)\n",
        "            c_states= self.path_cost , self.state\n",
        "            cost_states.append(c_states)\n",
        "            self=self.parent #discover the parent of the child node\n",
        "        #since we are traversing the tree from the child node we need to reorder the lists below by reversing them\n",
        "        seq_actions=list(reversed(seq_actions))\n",
        "        cost_states= list(reversed(cost_states))\n",
        "        return seq_actions,cost_states\n",
        "\n",
        "def print_frontier(frontier):\n",
        "    print(\"Frontier has \",len(frontier),\"items\")\n",
        "    if (len(frontier)>0):\n",
        "        minitem = frontier.peekitem()\n",
        "        print(\"Min item is\",minitem[0],\"with priority\",minitem[1])\n",
        "\n",
        "\n",
        "\"\"\" A function to implement the uniform cost search algorithm\"\"\"\n",
        "def ucs(problem):\n",
        "    print(\"About to do UCS on problem: \", problem)\n",
        "    node = Node(problem.init_state)\n",
        "    frontier = hd()\n",
        "    frontier[node] = node.path_cost\n",
        "    explored = set()\n",
        "\n",
        "    print(\"Initially, frontier=\", end=\" \")\n",
        "    print_frontier(frontier)\n",
        "    print(\"Initially, explored=\", explored)\n",
        "    print()\n",
        "\n",
        "    while(len(frontier) > 0):\n",
        "        node, priority = frontier.popitem()\n",
        "        if problem.goal_test(node.state):\n",
        "            print(\"Yay! I found a solution:\",node)\n",
        "            return node.solution_path()\n",
        "\n",
        "        explored.add(node.state)\n",
        "\n",
        "        print(\"Expanding: \",node)\n",
        "        print(node.state)\n",
        "        actions,successors,transcosts = RoutePlanningProb(srcap,dstap,rou).actions(node.state)\n",
        "        print(\"Available actions=\",actions)\n",
        "        print(\"Generated successor states: \",successors)\n",
        "        print(\"Transition costs:\",transcosts)\n",
        "        for i in range(len(actions)):\n",
        "            child = Node(successors[i], node, actions[i],\n",
        "                         node.path_cost+transcosts[i])\n",
        "            if (child.state not in explored and\n",
        "                child not in frontier):\n",
        "               frontier[child] = child.path_cost\n",
        "            elif (child in frontier):\n",
        "                oldcost = frontier[child]\n",
        "                if (oldcost > child.path_cost):\n",
        "                    frontier[child] = child.path_cost\n",
        "                    print(\"Updated\",child,\n",
        "                          \"on the frontier. Old cost was\",oldcost)\n",
        "\n",
        "        print(\"Now, frontier is: \", end=\"\")\n",
        "        print_frontier(frontier)\n",
        "        print(\"Now, explored is:\", explored)\n",
        "        print()\n",
        "\n",
        "    return None # failure\n",
        "\n",
        "if __name__ == \"__main__\":\n",
        "\n",
        "    print(\"Instantiating a RoutePlanningProblem\")\n",
        "    #pos = dict()\n",
        "    srcap= str(input(\"Enter the airport code for your departure airport\"))\n",
        "    dstap= str(input(\"Enter the airport code for your arrial airport\"))\n",
        "    #'JNB\n",
        "    #'BJL'\n",
        "\n",
        "\n",
        "    myProb = RoutePlanningProb(srcap,dstap,rou)\n",
        "    myProb.print_prob()\n",
        "    print()\n",
        "\n",
        "    # run uniform-cost search on the instantiated problem\n",
        "    solution = ucs(myProb)\n",
        "    print(\"UCS returned\",solution)\n",
        "\n"
      ]
    }
  ],
  "metadata": {
    "colab": {
      "provenance": [],
      "include_colab_link": true
    },
    "kernelspec": {
      "display_name": "Python 3",
      "name": "python3"
    },
    "language_info": {
      "name": "python"
    }
  },
  "nbformat": 4,
  "nbformat_minor": 0
}